{
 "cells": [
  {
   "cell_type": "markdown",
   "metadata": {},
   "source": [
    "# Transfer CellProfiler and Cytomining inputs\n",
    "\n",
    "For this demonstration, we will use the image data, metadata, and [CellProfiler](https://cellprofiler.org/) pipelines from:\n",
    "\n",
    "> [Three million images and morphological profiles of cells treated with matched chemical and genetic perturbations](https://www.biorxiv.org/content/10.1101/2022.01.05.475090v1), Chandrasekaran et al., 2022\n",
    "\n",
    "In this notebook, we transfer several CellProfiler and Cytomining inputs to Google Cloud Storage.\n",
    "\n",
    "<div class=\"alert alert-block alert-info\">\n",
    "<b>Note: you don't need to run this notebook.</b> The workflows that you run in your clone of the featured workspace can read the input files directly from the featured workspace bucket. No need to make your own copy of the input files, unless you would like to.\n",
    "</div>\n"
   ]
  },
  {
   "cell_type": "markdown",
   "metadata": {},
   "source": [
    "# Setup"
   ]
  },
  {
   "cell_type": "code",
   "execution_count": null,
   "metadata": {},
   "outputs": [],
   "source": [
    "import os"
   ]
  },
  {
   "cell_type": "markdown",
   "metadata": {},
   "source": [
    "## Define constants"
   ]
  },
  {
   "cell_type": "code",
   "execution_count": null,
   "metadata": {},
   "outputs": [],
   "source": [
    "#---[ Inputs ]---\n",
    "SOURCE_WORKSPACE_BUCKET = 'gs://fc-e1e6b6ac-3d52-4041-964d-43ce9beb3352'\n",
    "IMAGES = F'{SOURCE_WORKSPACE_BUCKET}/source_4_images/images/2020_11_04_CPJUMP1/images/'\n",
    "\n",
    "#---[ Outputs ]---\n",
    "# Use this folder in the workspace bucket for pe2loaddata configuration.\n",
    "PE2LOADDATA_CONFIG_DESTINATION = os.path.join(os.getenv('WORKSPACE_BUCKET'), 'pe2loaddata_config')\n",
    "# Use this folder in the workspace bucket for CellProfiler pipeline definition files.\n",
    "CPPIPE_DESTINATION = os.path.join(os.getenv('WORKSPACE_BUCKET'), 'cellprofiler_pipelines')\n",
    "# Use this folder in the workspace bucket for the plate maps.\n",
    "PLATE_MAP_DESTINATION = os.path.join(os.getenv('WORKSPACE_BUCKET'), 'plate_maps')\n",
    "# Use this folder in the workspace bucket for the images.\n",
    "IMAGE_DESTINATION = IMAGES.replace(SOURCE_WORKSPACE_BUCKET, os.getenv('WORKSPACE_BUCKET'))"
   ]
  },
  {
   "cell_type": "markdown",
   "metadata": {},
   "source": [
    "# Create pe2loaddata config file"
   ]
  },
  {
   "cell_type": "code",
   "execution_count": null,
   "metadata": {},
   "outputs": [],
   "source": [
    "%%writefile chandrasekaran_config.yml\n",
    "\n",
    "channels:\n",
    "    Alexa 647: OrigMito\n",
    "    Alexa 568: OrigAGP\n",
    "    488 long: OrigRNA\n",
    "    Alexa 488: OrigER\n",
    "    HOECHST 33342: OrigDNA\n",
    "    Brightfield H: OrigHighZBF\n",
    "    Brightfield L: OrigLowZBF\n",
    "    Brightfield: OrigBrightfield\n",
    "metadata:\n",
    "    Row: Row\n",
    "    Col: Col\n",
    "    FieldID: FieldID\n",
    "    PlaneID: PlaneID\n",
    "    ChannelID: ChannelID\n",
    "    ChannelName: ChannelName\n",
    "    ImageResolutionX: ImageResolutionX\n",
    "    ImageResolutionY: ImageResolutionY\n",
    "    ImageSizeX: ImageSizeX\n",
    "    ImageSizeY: ImageSizeY\n",
    "    BinningX: BinningX\n",
    "    BinningY: BinningY\n",
    "    MaxIntensity: MaxIntensity\n",
    "    PositionX: PositionX\n",
    "    PositionY: PositionY\n",
    "    PositionZ: PositionZ\n",
    "    AbsPositionZ: AbsPositionZ\n",
    "    AbsTime: AbsTime\n",
    "    MainExcitationWavelength: MainExcitationWavelength\n",
    "    MainEmissionWavelength: MainEmissionWavelength\n",
    "    ObjectiveMagnification: ObjectiveMagnification\n",
    "    ObjectiveNA: ObjectiveNA\n",
    "    ExposureTime: ExposureTime"
   ]
  },
  {
   "cell_type": "code",
   "execution_count": null,
   "metadata": {},
   "outputs": [],
   "source": [
    "!gsutil cp chandrasekaran_config.yml {PE2LOADDATA_CONFIG_DESTINATION}/"
   ]
  },
  {
   "cell_type": "markdown",
   "metadata": {},
   "source": [
    "# Transfer CellProfiler pipeline definitions"
   ]
  },
  {
   "cell_type": "code",
   "execution_count": null,
   "metadata": {},
   "outputs": [],
   "source": [
    "%%bash\n",
    "\n",
    "mkdir -p ~/miscGitHub\n",
    "cd ~/miscGitHub\n",
    "git clone https://github.com/jump-cellpainting/2021_Chandrasekaran_submitted.git || true"
   ]
  },
  {
   "cell_type": "code",
   "execution_count": null,
   "metadata": {},
   "outputs": [],
   "source": [
    "!gsutil -m cp ~/miscGitHub/2021_Chandrasekaran_submitted/pipelines/2020_11_04_CPJUMP1/*.cppipe {CPPIPE_DESTINATION}\n",
    "!gsutil -m setmeta -h \"Content-Type:text/plain\" {CPPIPE_DESTINATION}/*.cppipe"
   ]
  },
  {
   "cell_type": "markdown",
   "metadata": {},
   "source": [
    "# Transfer plate maps"
   ]
  },
  {
   "cell_type": "code",
   "execution_count": null,
   "metadata": {},
   "outputs": [],
   "source": [
    "!gsutil cp ~/miscGitHub/2021_Chandrasekaran_submitted/benchmark/output/experiment-metadata.tsv \\\n",
    "    {PLATE_MAP_DESTINATION}/experiment-metadata.tsv\n",
    "!gsutil setmeta -h \"Content-Type:text/plain\" {PLATE_MAP_DESTINATION}/experiment-metadata.tsv"
   ]
  },
  {
   "cell_type": "code",
   "execution_count": null,
   "metadata": {},
   "outputs": [],
   "source": [
    "%%bash\n",
    "\n",
    "cd ~/miscGitHub\n",
    "git clone https://github.com/jump-cellpainting/JUMP-Target.git || true"
   ]
  },
  {
   "cell_type": "code",
   "execution_count": null,
   "metadata": {},
   "outputs": [],
   "source": [
    "!gsutil -m cp ~/miscGitHub/JUMP-Target/*.tsv {PLATE_MAP_DESTINATION}\n",
    "!gsutil -m setmeta -h \"Content-Type:text/plain\" {PLATE_MAP_DESTINATION}/*.tsv"
   ]
  },
  {
   "cell_type": "markdown",
   "metadata": {},
   "source": [
    "# Transfer plate images"
   ]
  },
  {
   "cell_type": "markdown",
   "metadata": {},
   "source": [
    "These were copied to GCS previously so we don't need to pull directly from the source S3 bucket `s3://cellpainting-gallery/cpg0000-jump-pilot/source_4/images/2020_11_04_CPJUMP1/images/`. We put a copy directly into this workspace so that the permissions are correct for anyone looking at this workspace."
   ]
  },
  {
   "cell_type": "code",
   "execution_count": null,
   "metadata": {},
   "outputs": [],
   "source": [
    "!gsutil -m cp -R -n {IMAGES}* {IMAGE_DESTINATION}"
   ]
  },
  {
   "cell_type": "code",
   "execution_count": null,
   "metadata": {},
   "outputs": [],
   "source": [
    "!gsutil ls {IMAGE_DESTINATION}** > all_files.txt"
   ]
  },
  {
   "cell_type": "code",
   "execution_count": null,
   "metadata": {},
   "outputs": [],
   "source": [
    "!grep -c tiff all_files.txt"
   ]
  },
  {
   "cell_type": "code",
   "execution_count": null,
   "metadata": {},
   "outputs": [],
   "source": [
    "27648 * 4"
   ]
  },
  {
   "cell_type": "code",
   "execution_count": null,
   "metadata": {},
   "outputs": [],
   "source": [
    "!grep -v tiff all_files.txt"
   ]
  },
  {
   "cell_type": "code",
   "execution_count": null,
   "metadata": {},
   "outputs": [],
   "source": [
    "!grep -v tiff all_files.txt | cut -d '/' -f '8-'"
   ]
  },
  {
   "cell_type": "markdown",
   "metadata": {},
   "source": [
    "# Provenance"
   ]
  },
  {
   "cell_type": "code",
   "execution_count": null,
   "metadata": {},
   "outputs": [],
   "source": [
    "%%bash\n",
    "\n",
    "date"
   ]
  },
  {
   "cell_type": "code",
   "execution_count": null,
   "metadata": {},
   "outputs": [],
   "source": [
    "%%bash\n",
    "\n",
    "pip3 freeze"
   ]
  },
  {
   "cell_type": "markdown",
   "metadata": {},
   "source": [
    "Copyright 2022 The Broad Institute, Inc. and Verily Life Sciences LLC.\n",
    "\n",
    "Use of this source code is governed by a BSD-style license that can be found in the LICENSE file or at https://developers.google.com/open-source/licenses/bsd"
   ]
  }
 ],
 "metadata": {
  "kernelspec": {
   "display_name": "Python 3",
   "language": "python",
   "name": "python3"
  },
  "language_info": {
   "codemirror_mode": {
    "name": "ipython",
    "version": 3
   },
   "file_extension": ".py",
   "mimetype": "text/x-python",
   "name": "python",
   "nbconvert_exporter": "python",
   "pygments_lexer": "ipython3",
   "version": "3.7.12"
  },
  "toc": {
   "base_numbering": 1,
   "nav_menu": {},
   "number_sections": true,
   "sideBar": true,
   "skip_h1_title": false,
   "title_cell": "Table of Contents",
   "title_sidebar": "Contents",
   "toc_cell": false,
   "toc_position": {
    "height": "calc(100% - 180px)",
    "left": "10px",
    "top": "150px",
    "width": "258.011px"
   },
   "toc_section_display": true,
   "toc_window_display": true
  }
 },
 "nbformat": 4,
 "nbformat_minor": 2
}
