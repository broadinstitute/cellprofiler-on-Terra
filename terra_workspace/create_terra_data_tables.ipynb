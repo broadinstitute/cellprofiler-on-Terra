{
 "cells": [
  {
   "cell_type": "markdown",
   "metadata": {},
   "source": [
    "# Create Terra data tables\n",
    "\n",
    "For this demonstration, we will use the image data, metadata, and [CellProfiler](https://cellprofiler.org/) pipelines from:\n",
    "\n",
    "> [Three million images and morphological profiles of cells treated with matched chemical and genetic perturbations](https://www.biorxiv.org/content/10.1101/2022.01.05.475090v1), Chandrasekaran et al., 2022\n",
    "\n",
    "[Data tables](https://support.terra.bio/hc/en-us/articles/360025758392-Managing-data-with-tables-) are used to define the collection of workflow instances to be run. In this notebook, we will create the Terra Data Tables to provide the corresponding workflow parameters for the transferred data.  This notebook takes less than a minute to run to create these data tables:\n",
    "* Data Table \"plates\""
   ]
  },
  {
   "cell_type": "markdown",
   "metadata": {},
   "source": [
    "# Setup"
   ]
  },
  {
   "cell_type": "code",
   "execution_count": null,
   "metadata": {},
   "outputs": [],
   "source": [
    "import firecloud.api as fapi\n",
    "from io import StringIO\n",
    "import json\n",
    "import pandas as pd\n",
    "import os\n",
    "import string"
   ]
  },
  {
   "cell_type": "code",
   "execution_count": null,
   "metadata": {},
   "outputs": [],
   "source": [
    "pd.set_option('max_rows', None)\n",
    "pd.set_option('max_columns', None)\n",
    "pd.set_option('max_colwidth', None)"
   ]
  },
  {
   "cell_type": "markdown",
   "metadata": {},
   "source": [
    "## Define constants"
   ]
  },
  {
   "cell_type": "code",
   "execution_count": null,
   "metadata": {},
   "outputs": [],
   "source": [
    "#---[ Inputs ]---\n",
    "# This is the featured workspace bucket in https://app.terra.bio/#workspaces/bayer-pcl-cell-imaging/cellpainting\n",
    "INPUT_BUCKET = 'gs://fc-e1e6b6ac-3d52-4041-964d-43ce9beb3352'\n",
    "OUTPUT_BUCKET = os.getenv('WORKSPACE_BUCKET')\n",
    "\n",
    "#---[ Inputs ]---\n",
    "IMAGES = os.path.join(INPUT_BUCKET, 'source_4_images/images/2020_11_04_CPJUMP1/images/')\n",
    "# Use this folder in the workspace bucket for pe2loaddata configuration.\n",
    "PE2LOADDATA_CONFIG = os.path.join(INPUT_BUCKET, 'pe2loaddata_config')\n",
    "# Use this folder in the workspace bucket for CellProfiler pipeline definition files.\n",
    "CPPIPE_DEFINITIONS = os.path.join(INPUT_BUCKET, 'cellprofiler_pipelines')\n",
    "# Use this folder in the workspace bucket for the plate maps.\n",
    "PLATE_MAPS = os.path.join(INPUT_BUCKET, 'plate_maps')\n",
    "\n",
    "#---[ Outputs ]---\n",
    "CREATE_LOAD_DATA_RESULT_DESTINATION = os.path.join(OUTPUT_BUCKET, '0_create_load_data')\n",
    "ILLUMINATION_CORRECTION_RESULT_DESTINATION = os.path.join(OUTPUT_BUCKET, '2_cp_illumination_pipeline')\n",
    "ANALYSIS_RESULT_DESTINATION = os.path.join(OUTPUT_BUCKET, '3_cpd_analysis_pipeline')\n",
    "CYTOMINING_RESULT_DESTINATION = os.path.join(OUTPUT_BUCKET, '4_cytomining')"
   ]
  },
  {
   "cell_type": "markdown",
   "metadata": {},
   "source": [
    "# Create the \"plate\" Terra data table"
   ]
  },
  {
   "cell_type": "markdown",
   "metadata": {},
   "source": [
    "Create a Terra Data Table holding the parameters to the cell profiler workflows.\n",
    "\n",
    "See also https://support.terra.bio/hc/en-us/articles/360025758392-Managing-data-with-tables-"
   ]
  },
  {
   "cell_type": "code",
   "execution_count": null,
   "metadata": {},
   "outputs": [],
   "source": [
    "plates = !gsutil ls {IMAGES}* | grep Images\n",
    "\n",
    "plates"
   ]
  },
  {
   "cell_type": "code",
   "execution_count": null,
   "metadata": {},
   "outputs": [],
   "source": [
    "plate_ids = [plate.replace(IMAGES, '').split('_')[0] for plate in plates]\n",
    "\n",
    "plate_ids"
   ]
  },
  {
   "cell_type": "code",
   "execution_count": null,
   "metadata": {},
   "outputs": [],
   "source": [
    "create_load_data_result_destinations = [os.path.join(CREATE_LOAD_DATA_RESULT_DESTINATION, plate_id) for plate_id in plate_ids]\n",
    "\n",
    "create_load_data_result_destinations"
   ]
  },
  {
   "cell_type": "code",
   "execution_count": null,
   "metadata": {},
   "outputs": [],
   "source": [
    "illumination_correction_result_destinations = [os.path.join(ILLUMINATION_CORRECTION_RESULT_DESTINATION, plate_id) for plate_id in plate_ids]\n",
    "\n",
    "illumination_correction_result_destinations"
   ]
  },
  {
   "cell_type": "code",
   "execution_count": null,
   "metadata": {},
   "outputs": [],
   "source": [
    "analysis_result_destinations = [os.path.join(ANALYSIS_RESULT_DESTINATION, plate_id) for plate_id in plate_ids]\n",
    "\n",
    "analysis_result_destinations"
   ]
  },
  {
   "cell_type": "code",
   "execution_count": null,
   "metadata": {},
   "outputs": [],
   "source": [
    "cytoming_result_destinations = [os.path.join(CYTOMINING_RESULT_DESTINATION, plate_id) for plate_id in plate_ids]\n",
    "\n",
    "cytoming_result_destinations"
   ]
  },
  {
   "cell_type": "code",
   "execution_count": null,
   "metadata": {},
   "outputs": [],
   "source": [
    "df = pd.DataFrame(data={\n",
    "    'entity:plate_id': plate_ids, # Terra requires the 'entity:' prefix and the '_id' suffix.\n",
    "    'images': plates,\n",
    "    'create_load_data_result_destination': create_load_data_result_destinations,\n",
    "    'illumination_correction_result_destination': illumination_correction_result_destinations,\n",
    "    'analysis_result_destination': analysis_result_destinations,\n",
    "    'cytoming_result_destination': cytoming_result_destinations   \n",
    "})\n",
    "\n",
    "df"
   ]
  },
  {
   "cell_type": "code",
   "execution_count": null,
   "metadata": {},
   "outputs": [],
   "source": [
    "# This is the correct pe2loaddata configuration file for all four plates.\n",
    "df['config'] = os.path.join(PE2LOADDATA_CONFIG, 'chandrasekaran_config.yml')"
   ]
  },
  {
   "cell_type": "code",
   "execution_count": null,
   "metadata": {},
   "outputs": [],
   "source": [
    "# This is the illumination correction CellProfiler pipeline to use for all four plates.\n",
    "df['illum_cppipe'] = os.path.join(CPPIPE_DEFINITIONS, 'illum_without_batchfile.cppipe')"
   ]
  },
  {
   "cell_type": "code",
   "execution_count": null,
   "metadata": {},
   "outputs": [],
   "source": [
    "# This is the analysis CellProfiler pipeline to use for all four plates.\n",
    "df['analysis_cppipe'] = os.path.join(CPPIPE_DEFINITIONS, 'CPJUMP1_analysis_without_batchfile_406.cppipe')"
   ]
  },
  {
   "cell_type": "code",
   "execution_count": null,
   "metadata": {},
   "outputs": [],
   "source": [
    "# From experiment-metadata.tsv this is the correct platemap for all four plates.\n",
    "# See https://github.com/jump-cellpainting/2021_Chandrasekaran_submitted/blob/main/benchmark/output/experiment-metadata.tsv\n",
    "df['plate_map'] = os.path.join(PLATE_MAPS, 'JUMP-Target-1_compound_platemap.tsv')"
   ]
  },
  {
   "cell_type": "code",
   "execution_count": null,
   "metadata": {},
   "outputs": [],
   "source": [
    "df"
   ]
  },
  {
   "cell_type": "code",
   "execution_count": null,
   "metadata": {},
   "outputs": [],
   "source": [
    "response = fapi.upload_entities(\n",
    "    namespace=os.getenv('WORKSPACE_NAMESPACE'),\n",
    "    workspace=os.getenv('WORKSPACE_NAME'),\n",
    "    entity_data=df.to_csv(path_or_buf=None, sep='\\t', index=False),\n",
    "    model='flexible')\n",
    "\n",
    "response"
   ]
  },
  {
   "cell_type": "code",
   "execution_count": null,
   "metadata": {},
   "outputs": [],
   "source": [
    "response.content"
   ]
  },
  {
   "cell_type": "markdown",
   "metadata": {},
   "source": [
    "# Provenance"
   ]
  },
  {
   "cell_type": "code",
   "execution_count": null,
   "metadata": {},
   "outputs": [],
   "source": [
    "%%bash\n",
    "\n",
    "date"
   ]
  },
  {
   "cell_type": "code",
   "execution_count": null,
   "metadata": {},
   "outputs": [],
   "source": [
    "%%bash\n",
    "\n",
    "pip3 freeze"
   ]
  },
  {
   "cell_type": "markdown",
   "metadata": {},
   "source": [
    "Copyright 2022 The Broad Institute, Inc. and Verily Life Sciences LLC.\n",
    "\n",
    "Use of this source code is governed by a BSD-style license that can be found in the LICENSE file or at https://developers.google.com/open-source/licenses/bsd"
   ]
  }
 ],
 "metadata": {
  "kernelspec": {
   "display_name": "Python 3",
   "language": "python",
   "name": "python3"
  },
  "language_info": {
   "codemirror_mode": {
    "name": "ipython",
    "version": 3
   },
   "file_extension": ".py",
   "mimetype": "text/x-python",
   "name": "python",
   "nbconvert_exporter": "python",
   "pygments_lexer": "ipython3",
   "version": "3.7.12"
  },
  "toc": {
   "base_numbering": 1,
   "nav_menu": {},
   "number_sections": true,
   "sideBar": true,
   "skip_h1_title": false,
   "title_cell": "Table of Contents",
   "title_sidebar": "Contents",
   "toc_cell": false,
   "toc_position": {
    "height": "calc(100% - 180px)",
    "left": "10px",
    "top": "150px",
    "width": "274px"
   },
   "toc_section_display": true,
   "toc_window_display": true
  }
 },
 "nbformat": 4,
 "nbformat_minor": 2
}
